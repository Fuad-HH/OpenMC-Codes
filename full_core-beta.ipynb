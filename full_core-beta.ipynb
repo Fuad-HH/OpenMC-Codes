{
 "cells": [
  {
   "cell_type": "code",
   "execution_count": 1,
   "metadata": {},
   "outputs": [],
   "source": [
    "%matplotlib inline\n",
    "import openmc as mc\n",
    "import numpy as np\n",
    "import matplotlib.pyplot as plt\n",
    "\n",
    "import math\n",
    "\n",
    "import openmc.mgxs as mgxs"
   ]
  },
  {
   "cell_type": "markdown",
   "metadata": {},
   "source": [
    "## materials (fuel, clad, lbe) "
   ]
  },
  {
   "cell_type": "code",
   "execution_count": 2,
   "metadata": {},
   "outputs": [],
   "source": [
    "uranium = mc.Material(1, \"depleted uranium\")\n",
    "uranium.add_nuclide('U238', 99.8, 'wo')\n",
    "uranium.add_nuclide('U235', 0.2, 'wo')\n",
    "uranium.add_nuclide('U234', 0.001, 'wo')\n",
    "uranium.deplete = True\n",
    "\n",
    "zirconium = mc.Material(2, \"zirconium\")\n",
    "zirconium.add_element('Zr',1,'wo')\n",
    "\n",
    "plutonium = mc.Material(3, \"plutonium\")\n",
    "plutonium.add_nuclide('Pu238', 3.18, 'wo')\n",
    "plutonium.add_nuclide('Pu239', 56.35, 'wo')\n",
    "plutonium.add_nuclide('Pu240', 26.6, 'wo')\n",
    "plutonium.add_nuclide('Pu241', 8.02, 'wo')\n",
    "plutonium.add_nuclide('Pu242', 5.83, 'wo')\n",
    "plutonium.deplete = True\n",
    "\n",
    "upz = mc.Material.mix_materials([uranium, plutonium, zirconium], [0.8, 0.1, 0.1], 'wo')\n",
    "upz.set_density('g/cc', 11.88)\n",
    "upz.temperature = 800"
   ]
  },
  {
   "cell_type": "code",
   "execution_count": 3,
   "metadata": {},
   "outputs": [],
   "source": [
    "lbe = mc.Material(5, \"lead-bismuth-eutectic\")\n",
    "\n",
    "lbe.add_element('Pb', 44.5, 'wo')\n",
    "lbe.add_element('Bi', 55.5, 'wo')\n",
    "\n",
    "lbe.set_density('g/cc', 10.3)\n",
    "lbe.temperature = 620.15"
   ]
  },
  {
   "cell_type": "code",
   "execution_count": 4,
   "metadata": {},
   "outputs": [],
   "source": [
    "steel = mc.Material(6, \"15-15Ti Steel\")\n",
    "\n",
    "steel.add_nuclide('C12', 0.1, 'wo')\n",
    "steel.add_nuclide('Mn55', 1.49, 'wo')\n",
    "steel.add_nuclide('Si28', 0.52, 'wo')\n",
    "steel.add_nuclide('P31', 0.041, 'wo')\n",
    "\n",
    "steel.add_element('Cr', 15.95, 'wo')\n",
    "steel.add_element('Ni', 15.40, 'wo')\n",
    "steel.add_element('B', 0.007, 'wo')\n",
    "steel.add_element('Mo', 1.2, 'wo')\n",
    "steel.add_element('Cu', 0.026, 'wo')\n",
    "steel.add_element('V', 0.036, 'wo')\n",
    "steel.add_element('Al', 0.023, 'wo')\n",
    "steel.add_element('Ti', 0.44, 'wo')\n",
    "steel.add_element('Fe', 64.767, 'wo')\n",
    "\n",
    "steel.set_density('g/cc', 7.92)\n",
    "steel.temperature = 750"
   ]
  },
  {
   "cell_type": "code",
   "execution_count": 5,
   "metadata": {},
   "outputs": [],
   "source": [
    "mats = mc.Materials([upz, lbe, steel])\n",
    "mats.export_to_xml()"
   ]
  },
  {
   "cell_type": "markdown",
   "metadata": {},
   "source": [
    "# geometry"
   ]
  },
  {
   "cell_type": "code",
   "execution_count": 6,
   "metadata": {},
   "outputs": [],
   "source": [
    "ac_top = mc.ZPlane(z0=70, boundary_type='vacuum')\n",
    "ac_bottom = mc.ZPlane(z0=-70, boundary_type='vacuum')\n",
    "\n",
    "f_radii = [0.74, 0.76, 0.78]\n",
    "r_clad_radii = [0.77, 0.79, 0.81]\n",
    "\n",
    "r_fuel = [mc.ZCylinder(r=ra) for ra in f_radii]\n",
    "r_clad = [mc.ZCylinder(r=rc) for rc in r_clad_radii]"
   ]
  },
  {
   "cell_type": "code",
   "execution_count": 7,
   "metadata": {},
   "outputs": [],
   "source": [
    "fuel = [mc.Cell(fill=upz, region=-cyl & +ac_bottom & -ac_top) for cyl in r_fuel]\n",
    "clad = [mc.Cell(fill=steel, region=+f & -c & +ac_bottom & -ac_top) for f,c in zip(r_fuel,r_clad)]\n",
    "coolant = [mc.Cell(fill=lbe, region=+c & -ac_top & +ac_bottom) for c in r_clad]\n",
    "all_coolant_cell = mc.Cell(fill=lbe)"
   ]
  },
  {
   "cell_type": "code",
   "execution_count": 8,
   "metadata": {},
   "outputs": [],
   "source": [
    "pin_universe = [mc.Universe(cells=[fuel[i],clad[i],coolant[i]], name='pin_for_zone '+str(i+1)) for i in [0,1,2]]\n",
    "outer_universe = mc.Universe(cells=(all_coolant_cell,))\n",
    "#outer_universe_for_assembly = mc.Universe(cells=(mc.Cell(fill=lbe, region=mc.model.hexagonal_prism(edge_length=16))))"
   ]
  },
  {
   "cell_type": "code",
   "execution_count": 9,
   "metadata": {},
   "outputs": [],
   "source": [
    "lattice = [mc.HexLattice(name='assembly lattice:'+str(i+1)) for i in [0,1,2]]\n",
    "    "
   ]
  },
  {
   "cell_type": "code",
   "execution_count": 10,
   "metadata": {},
   "outputs": [],
   "source": [
    "for i in [0,1,2]:\n",
    "    lattice[i].center = (0., 0.)\n",
    "    lattice[i].pitch = (1.9, )\n",
    "    lattice[i].outer = outer_universe\n",
    "    lattice[i].orientation = 'x'\n",
    "    rings = [[pin_universe[i]]*cir for cir in [24, 18, 12, 6, 1]]\n",
    "    lattice[i].universes = rings"
   ]
  },
  {
   "cell_type": "code",
   "execution_count": 11,
   "metadata": {},
   "outputs": [],
   "source": [
    "assem_region = mc.model.hexagonal_prism( edge_length=11.5, orientation='x', boundary_type='transmission')\n",
    "assembly_cell = [mc.Cell(fill=lattice[i], region= assem_region & -ac_top & +ac_bottom) for i in [0,1,2]]\n",
    "#outer_assembly_cell = mc.Cell(fill=lbe, region=-ac_top & +ac_bottom)"
   ]
  },
  {
   "cell_type": "code",
   "execution_count": 12,
   "metadata": {},
   "outputs": [],
   "source": [
    "assembly_universe = [mc.Universe(cells=(assembly_cell[i],)) for i in [0, 1, 2]]\n"
   ]
  },
  {
   "cell_type": "code",
   "execution_count": 13,
   "metadata": {},
   "outputs": [],
   "source": [
    "core_lat = mc.HexLattice(name='core_lattice_hex')\n",
    "\n",
    "core_lat.center = (0., 0.)\n",
    "core_lat.pitch = (16,)\n",
    "core_lat.outer = outer_universe\n"
   ]
  },
  {
   "cell_type": "code",
   "execution_count": 14,
   "metadata": {},
   "outputs": [],
   "source": [
    "reflective_ring = [outer_universe]*36\n",
    "ring1 = [assembly_universe[2]]*30\n",
    "\n",
    "ring2 = [assembly_universe[2]]*2 + [outer_universe] +\\\n",
    "    [assembly_universe[2]]*3 + [outer_universe] +\\\n",
    "    [assembly_universe[2]]*3 + [outer_universe] +\\\n",
    "    [assembly_universe[2]]*3 + [outer_universe] +\\\n",
    "    [assembly_universe[2]]*3 + [outer_universe] +\\\n",
    "    [assembly_universe[2]]*3 + [outer_universe] +\\\n",
    "    [assembly_universe[2]]\n",
    "\n",
    "ring3 = [assembly_universe[1]]*18\n",
    "\n",
    "ring4 = [outer_universe] + [assembly_universe[1]]*5 +\\\n",
    "        [outer_universe] + [assembly_universe[1]]*5\n",
    "\n",
    "ring5 = [assembly_universe[0]]*6\n",
    "ring6 = [assembly_universe[0]]\n",
    "        "
   ]
  },
  {
   "cell_type": "code",
   "execution_count": 15,
   "metadata": {},
   "outputs": [],
   "source": [
    "core_lat.universes = [reflective_ring,ring1, ring2, ring3, ring4, ring5, ring6]"
   ]
  },
  {
   "cell_type": "code",
   "execution_count": 16,
   "metadata": {},
   "outputs": [],
   "source": [
    "core_region = mc.model.hexagonal_prism(edge_length=110, orientation='y',boundary_type='vacuum')\n",
    "root_cell = mc.Cell(fill=core_lat, region=core_region & -ac_top & +ac_bottom)\n",
    "root_universe = mc.Universe(cells=(root_cell,))"
   ]
  },
  {
   "cell_type": "code",
   "execution_count": 17,
   "metadata": {},
   "outputs": [],
   "source": [
    "geom = mc.Geometry(root_universe)\n",
    "geom.export_to_xml()"
   ]
  },
  {
   "cell_type": "raw",
   "metadata": {},
   "source": [
    "p_core = mc.Plot()\n",
    "p_core.filename = 'core'\n",
    "p_core.width = (300,300)\n",
    "p_core.pixels = (500, 500)\n",
    "p_core.color_by = 'material'\n",
    "p_core.basis = 'xy'\n",
    "p_core.show_overlaps = True\n",
    "\n",
    "plots = mc.Plots([p_core])\n",
    "plots.export_to_xml()\n",
    "\n",
    "mc.plot_geometry()"
   ]
  },
  {
   "cell_type": "code",
   "execution_count": 18,
   "metadata": {},
   "outputs": [],
   "source": [
    "bounds = [-85, -85, -70, 85, 85, 70]\n",
    "uniform_dist = mc.stats.Box(bounds[:3], bounds[3:], only_fissionable=True)\n",
    "src = mc.Source(space=uniform_dist)"
   ]
  },
  {
   "cell_type": "code",
   "execution_count": 19,
   "metadata": {},
   "outputs": [],
   "source": [
    "settings = mc.Settings()\n",
    "settings.source = src\n",
    "settings.batches = 6\n",
    "settings.inactive = 5\n",
    "settings.particles = 2000000\n",
    "settings.generations_per_batch = 5\n",
    "settings.temperature = {'method':'interpolation'}\n",
    "settings.trigger_active = False\n",
    "\n",
    "settings.output = {'tallies': False}\n",
    "\n",
    "settings.export_to_xml()"
   ]
  },
  {
   "cell_type": "markdown",
   "metadata": {},
   "source": [
    "# setting mgxs library"
   ]
  },
  {
   "cell_type": "code",
   "execution_count": 20,
   "metadata": {},
   "outputs": [],
   "source": [
    "# Instantiate a 100-group EnergyGroups object\n",
    "energy_groups = mc.mgxs.EnergyGroups()\n",
    "energy_groups.group_edges = np.logspace(-3, 7.3, 21)\n",
    "\n",
    "# Instantiate a 1-group EnergyGroups object\n",
    "one_group = mc.mgxs.EnergyGroups()\n",
    "one_group.group_edges = np.array([energy_groups.group_edges[0], energy_groups.group_edges[-1]])\n",
    "\n",
    "# Instantiate delayed groups\n",
    "delayed_groups = list(range(1,7))"
   ]
  },
  {
   "cell_type": "code",
   "execution_count": 21,
   "metadata": {},
   "outputs": [],
   "source": [
    "# Instantiate a few different sections\n",
    "chi_prompt = mgxs.Chi(domain=root_cell, groups=energy_groups, by_nuclide=True, prompt=True)\n",
    "prompt_nu_fission = mgxs.FissionXS(domain=root_cell, groups=energy_groups, by_nuclide=True, nu=True, prompt=True)\n",
    "chi_delayed = mgxs.ChiDelayed(domain=root_cell, energy_groups=energy_groups, by_nuclide=True)\n",
    "delayed_nu_fission = mgxs.DelayedNuFissionXS(domain=root_cell, energy_groups=energy_groups, delayed_groups=delayed_groups, by_nuclide=True)\n",
    "beta = mgxs.Beta(domain=root_cell, energy_groups=energy_groups, delayed_groups=delayed_groups, by_nuclide=True)\n",
    "decay_rate = mgxs.DecayRate(domain=root_cell, energy_groups=one_group, delayed_groups=delayed_groups, by_nuclide=True)\n",
    "\n",
    "chi_prompt.nuclides = ['U235', 'Pu239', 'Pu241']\n",
    "prompt_nu_fission.nuclides = ['U235', 'Pu239', 'Pu241']\n",
    "chi_delayed.nuclides = ['U235', 'Pu239', 'Pu241']\n",
    "delayed_nu_fission.nuclides = ['U235', 'Pu239', 'Pu241']\n",
    "beta.nuclides = ['U235', 'Pu239', 'Pu241','U238']\n",
    "decay_rate.nuclides = ['U235', 'Pu239', 'Pu241']"
   ]
  },
  {
   "cell_type": "code",
   "execution_count": 22,
   "metadata": {},
   "outputs": [
    {
     "name": "stderr",
     "output_type": "stream",
     "text": [
      "/home/fuad/miniconda3/lib/python3.8/site-packages/openmc/mixin.py:68: IDWarning: Another Filter instance already exists with id=1.\n",
      "  warn(msg, IDWarning)\n",
      "/home/fuad/miniconda3/lib/python3.8/site-packages/openmc/mixin.py:68: IDWarning: Another Filter instance already exists with id=3.\n",
      "  warn(msg, IDWarning)\n",
      "/home/fuad/miniconda3/lib/python3.8/site-packages/openmc/mixin.py:68: IDWarning: Another Filter instance already exists with id=2.\n",
      "  warn(msg, IDWarning)\n",
      "/home/fuad/miniconda3/lib/python3.8/site-packages/openmc/mixin.py:68: IDWarning: Another Filter instance already exists with id=5.\n",
      "  warn(msg, IDWarning)\n",
      "/home/fuad/miniconda3/lib/python3.8/site-packages/openmc/mixin.py:68: IDWarning: Another Filter instance already exists with id=11.\n",
      "  warn(msg, IDWarning)\n"
     ]
    }
   ],
   "source": [
    "# Instantiate an empty Tallies object\n",
    "tallies_file = mc.Tallies()\n",
    "\n",
    "# Add chi-prompt tallies to the tallies file\n",
    "tallies_file += chi_prompt.tallies.values()\n",
    "\n",
    "# Add prompt-nu-fission tallies to the tallies file\n",
    "tallies_file += prompt_nu_fission.tallies.values()\n",
    "\n",
    "# Add chi-delayed tallies to the tallies file\n",
    "tallies_file += chi_delayed.tallies.values()\n",
    "\n",
    "# Add delayed-nu-fission tallies to the tallies file\n",
    "tallies_file += delayed_nu_fission.tallies.values()\n",
    "\n",
    "# Add beta tallies to the tallies file\n",
    "tallies_file += beta.tallies.values()\n",
    "\n",
    "# Add decay rate tallies to the tallies file\n",
    "tallies_file += decay_rate.tallies.values()\n",
    "\n",
    "# Export to \"tallies.xml\"\n",
    "tallies_file.export_to_xml()"
   ]
  },
  {
   "cell_type": "code",
   "execution_count": 23,
   "metadata": {
    "collapsed": true
   },
   "outputs": [
    {
     "name": "stdout",
     "output_type": "stream",
     "text": [
      "                                %%%%%%%%%%%%%%%\n",
      "                           %%%%%%%%%%%%%%%%%%%%%%%%\n",
      "                        %%%%%%%%%%%%%%%%%%%%%%%%%%%%%%\n",
      "                      %%%%%%%%%%%%%%%%%%%%%%%%%%%%%%%%%%\n",
      "                    %%%%%%%%%%%%%%%%%%%%%%%%%%%%%%%%%%%%%%\n",
      "                   %%%%%%%%%%%%%%%%%%%%%%%%%%%%%%%%%%%%%%%%\n",
      "                                    %%%%%%%%%%%%%%%%%%%%%%%%\n",
      "                                     %%%%%%%%%%%%%%%%%%%%%%%%\n",
      "                 ###############      %%%%%%%%%%%%%%%%%%%%%%%%\n",
      "                ##################     %%%%%%%%%%%%%%%%%%%%%%%\n",
      "                ###################     %%%%%%%%%%%%%%%%%%%%%%%\n",
      "                ####################     %%%%%%%%%%%%%%%%%%%%%%\n",
      "                #####################     %%%%%%%%%%%%%%%%%%%%%\n",
      "                ######################     %%%%%%%%%%%%%%%%%%%%\n",
      "                #######################     %%%%%%%%%%%%%%%%%%\n",
      "                 #######################     %%%%%%%%%%%%%%%%%\n",
      "                 ######################     %%%%%%%%%%%%%%%%%\n",
      "                  ####################     %%%%%%%%%%%%%%%%%\n",
      "                    #################     %%%%%%%%%%%%%%%%%\n",
      "                     ###############     %%%%%%%%%%%%%%%%\n",
      "                       ############     %%%%%%%%%%%%%%%\n",
      "                          ########     %%%%%%%%%%%%%%\n",
      "                                      %%%%%%%%%%%\n",
      "\n",
      "                   | The OpenMC Monte Carlo Code\n",
      "         Copyright | 2011-2020 MIT and OpenMC contributors\n",
      "           License | https://docs.openmc.org/en/latest/license.html\n",
      "           Version | 0.12.0\n",
      "          Git SHA1 | 599a722a542ede426c3f1390a88ddb4e4e0045d3\n",
      "         Date/Time | 2021-02-26 14:03:32\n",
      "    OpenMP Threads | 8\n",
      "\n",
      " Reading settings XML file...\n",
      " Reading cross sections XML file...\n",
      " Reading materials XML file...\n",
      " Reading geometry XML file...\n",
      " Reading U238 from /home/fuad/code/libraries/lib80x/lib80x_hdf5/U238.h5\n",
      " Reading U235 from /home/fuad/code/libraries/lib80x/lib80x_hdf5/U235.h5\n",
      " Reading U234 from /home/fuad/code/libraries/lib80x/lib80x_hdf5/U234.h5\n",
      " Reading Pu238 from /home/fuad/code/libraries/lib80x/lib80x_hdf5/Pu238.h5\n",
      " Reading Pu239 from /home/fuad/code/libraries/lib80x/lib80x_hdf5/Pu239.h5\n",
      " Reading Pu240 from /home/fuad/code/libraries/lib80x/lib80x_hdf5/Pu240.h5\n",
      " Reading Pu241 from /home/fuad/code/libraries/lib80x/lib80x_hdf5/Pu241.h5\n",
      " Reading Pu242 from /home/fuad/code/libraries/lib80x/lib80x_hdf5/Pu242.h5\n",
      " Reading Zr90 from /home/fuad/code/libraries/lib80x/lib80x_hdf5/Zr90.h5\n",
      " Reading Zr91 from /home/fuad/code/libraries/lib80x/lib80x_hdf5/Zr91.h5\n",
      " Reading Zr92 from /home/fuad/code/libraries/lib80x/lib80x_hdf5/Zr92.h5\n",
      " Reading Zr94 from /home/fuad/code/libraries/lib80x/lib80x_hdf5/Zr94.h5\n",
      " Reading Zr96 from /home/fuad/code/libraries/lib80x/lib80x_hdf5/Zr96.h5\n",
      " Reading Pb204 from /home/fuad/code/libraries/lib80x/lib80x_hdf5/Pb204.h5\n",
      " Reading Pb206 from /home/fuad/code/libraries/lib80x/lib80x_hdf5/Pb206.h5\n",
      " Reading Pb207 from /home/fuad/code/libraries/lib80x/lib80x_hdf5/Pb207.h5\n",
      " Reading Pb208 from /home/fuad/code/libraries/lib80x/lib80x_hdf5/Pb208.h5\n",
      " Reading Bi209 from /home/fuad/code/libraries/lib80x/lib80x_hdf5/Bi209.h5\n",
      " Reading C12 from /home/fuad/code/libraries/lib80x/lib80x_hdf5/C12.h5\n",
      " Reading Mn55 from /home/fuad/code/libraries/lib80x/lib80x_hdf5/Mn55.h5\n",
      " Reading Si28 from /home/fuad/code/libraries/lib80x/lib80x_hdf5/Si28.h5\n",
      " Reading P31 from /home/fuad/code/libraries/lib80x/lib80x_hdf5/P31.h5\n",
      " Reading Cr50 from /home/fuad/code/libraries/lib80x/lib80x_hdf5/Cr50.h5\n",
      " Reading Cr52 from /home/fuad/code/libraries/lib80x/lib80x_hdf5/Cr52.h5\n",
      " Reading Cr53 from /home/fuad/code/libraries/lib80x/lib80x_hdf5/Cr53.h5\n",
      " Reading Cr54 from /home/fuad/code/libraries/lib80x/lib80x_hdf5/Cr54.h5\n",
      " Reading Ni58 from /home/fuad/code/libraries/lib80x/lib80x_hdf5/Ni58.h5\n",
      " Reading Ni60 from /home/fuad/code/libraries/lib80x/lib80x_hdf5/Ni60.h5\n",
      " Reading Ni61 from /home/fuad/code/libraries/lib80x/lib80x_hdf5/Ni61.h5\n",
      " Reading Ni62 from /home/fuad/code/libraries/lib80x/lib80x_hdf5/Ni62.h5\n",
      " Reading Ni64 from /home/fuad/code/libraries/lib80x/lib80x_hdf5/Ni64.h5\n",
      " Reading B10 from /home/fuad/code/libraries/lib80x/lib80x_hdf5/B10.h5\n",
      " Reading B11 from /home/fuad/code/libraries/lib80x/lib80x_hdf5/B11.h5\n",
      " Reading Mo100 from /home/fuad/code/libraries/lib80x/lib80x_hdf5/Mo100.h5\n",
      " Reading Mo92 from /home/fuad/code/libraries/lib80x/lib80x_hdf5/Mo92.h5\n",
      " Reading Mo94 from /home/fuad/code/libraries/lib80x/lib80x_hdf5/Mo94.h5\n",
      " Reading Mo95 from /home/fuad/code/libraries/lib80x/lib80x_hdf5/Mo95.h5\n",
      " Reading Mo96 from /home/fuad/code/libraries/lib80x/lib80x_hdf5/Mo96.h5\n",
      " Reading Mo97 from /home/fuad/code/libraries/lib80x/lib80x_hdf5/Mo97.h5\n",
      " Reading Mo98 from /home/fuad/code/libraries/lib80x/lib80x_hdf5/Mo98.h5\n",
      " Reading Cu63 from /home/fuad/code/libraries/lib80x/lib80x_hdf5/Cu63.h5\n",
      " Reading Cu65 from /home/fuad/code/libraries/lib80x/lib80x_hdf5/Cu65.h5\n",
      " Reading V50 from /home/fuad/code/libraries/lib80x/lib80x_hdf5/V50.h5\n",
      " Reading V51 from /home/fuad/code/libraries/lib80x/lib80x_hdf5/V51.h5\n",
      " Reading Al27 from /home/fuad/code/libraries/lib80x/lib80x_hdf5/Al27.h5\n",
      " Reading Ti46 from /home/fuad/code/libraries/lib80x/lib80x_hdf5/Ti46.h5\n",
      " Reading Ti47 from /home/fuad/code/libraries/lib80x/lib80x_hdf5/Ti47.h5\n",
      " Reading Ti48 from /home/fuad/code/libraries/lib80x/lib80x_hdf5/Ti48.h5\n",
      " Reading Ti49 from /home/fuad/code/libraries/lib80x/lib80x_hdf5/Ti49.h5\n",
      " Reading Ti50 from /home/fuad/code/libraries/lib80x/lib80x_hdf5/Ti50.h5\n",
      " Reading Fe54 from /home/fuad/code/libraries/lib80x/lib80x_hdf5/Fe54.h5\n",
      " Reading Fe56 from /home/fuad/code/libraries/lib80x/lib80x_hdf5/Fe56.h5\n",
      " Reading Fe57 from /home/fuad/code/libraries/lib80x/lib80x_hdf5/Fe57.h5\n",
      " Reading Fe58 from /home/fuad/code/libraries/lib80x/lib80x_hdf5/Fe58.h5\n",
      " Minimum neutron data temperature: 600.000000 K\n",
      " Maximum neutron data temperature: 900.000000 K\n",
      " Reading tallies XML file...\n",
      " Preparing distributed cell instances...\n",
      " Writing summary.h5 file...\n",
      " Maximum neutron transport energy: 20000000.000000 eV for Pu239\n",
      " Initializing source particles...\n"
     ]
    },
    {
     "ename": "KeyboardInterrupt",
     "evalue": "",
     "output_type": "error",
     "traceback": [
      "\u001b[0;31m---------------------------------------------------------------------------\u001b[0m",
      "\u001b[0;31mKeyboardInterrupt\u001b[0m                         Traceback (most recent call last)",
      "\u001b[0;32m<ipython-input-23-799c8ecfe828>\u001b[0m in \u001b[0;36m<module>\u001b[0;34m\u001b[0m\n\u001b[0;32m----> 1\u001b[0;31m \u001b[0mmc\u001b[0m\u001b[0;34m.\u001b[0m\u001b[0mrun\u001b[0m\u001b[0;34m(\u001b[0m\u001b[0;34m)\u001b[0m\u001b[0;34m\u001b[0m\u001b[0;34m\u001b[0m\u001b[0m\n\u001b[0m",
      "\u001b[0;32m~/miniconda3/lib/python3.8/site-packages/openmc/executor.py\u001b[0m in \u001b[0;36mrun\u001b[0;34m(particles, threads, geometry_debug, restart_file, tracks, output, cwd, openmc_exec, mpi_args, event_based)\u001b[0m\n\u001b[1;32m    216\u001b[0m         \u001b[0margs\u001b[0m \u001b[0;34m=\u001b[0m \u001b[0mmpi_args\u001b[0m \u001b[0;34m+\u001b[0m \u001b[0margs\u001b[0m\u001b[0;34m\u001b[0m\u001b[0;34m\u001b[0m\u001b[0m\n\u001b[1;32m    217\u001b[0m \u001b[0;34m\u001b[0m\u001b[0m\n\u001b[0;32m--> 218\u001b[0;31m     \u001b[0m_run\u001b[0m\u001b[0;34m(\u001b[0m\u001b[0margs\u001b[0m\u001b[0;34m,\u001b[0m \u001b[0moutput\u001b[0m\u001b[0;34m,\u001b[0m \u001b[0mcwd\u001b[0m\u001b[0;34m)\u001b[0m\u001b[0;34m\u001b[0m\u001b[0;34m\u001b[0m\u001b[0m\n\u001b[0m",
      "\u001b[0;32m~/miniconda3/lib/python3.8/site-packages/openmc/executor.py\u001b[0m in \u001b[0;36m_run\u001b[0;34m(args, output, cwd)\u001b[0m\n\u001b[1;32m     15\u001b[0m     \u001b[0;32mwhile\u001b[0m \u001b[0;32mTrue\u001b[0m\u001b[0;34m:\u001b[0m\u001b[0;34m\u001b[0m\u001b[0;34m\u001b[0m\u001b[0m\n\u001b[1;32m     16\u001b[0m         \u001b[0;31m# If OpenMC is finished, break loop\u001b[0m\u001b[0;34m\u001b[0m\u001b[0;34m\u001b[0m\u001b[0;34m\u001b[0m\u001b[0m\n\u001b[0;32m---> 17\u001b[0;31m         \u001b[0mline\u001b[0m \u001b[0;34m=\u001b[0m \u001b[0mp\u001b[0m\u001b[0;34m.\u001b[0m\u001b[0mstdout\u001b[0m\u001b[0;34m.\u001b[0m\u001b[0mreadline\u001b[0m\u001b[0;34m(\u001b[0m\u001b[0;34m)\u001b[0m\u001b[0;34m\u001b[0m\u001b[0;34m\u001b[0m\u001b[0m\n\u001b[0m\u001b[1;32m     18\u001b[0m         \u001b[0;32mif\u001b[0m \u001b[0;32mnot\u001b[0m \u001b[0mline\u001b[0m \u001b[0;32mand\u001b[0m \u001b[0mp\u001b[0m\u001b[0;34m.\u001b[0m\u001b[0mpoll\u001b[0m\u001b[0;34m(\u001b[0m\u001b[0;34m)\u001b[0m \u001b[0;32mis\u001b[0m \u001b[0;32mnot\u001b[0m \u001b[0;32mNone\u001b[0m\u001b[0;34m:\u001b[0m\u001b[0;34m\u001b[0m\u001b[0;34m\u001b[0m\u001b[0m\n\u001b[1;32m     19\u001b[0m             \u001b[0;32mbreak\u001b[0m\u001b[0;34m\u001b[0m\u001b[0;34m\u001b[0m\u001b[0m\n",
      "\u001b[0;31mKeyboardInterrupt\u001b[0m: "
     ]
    }
   ],
   "source": [
    "mc.run()"
   ]
  },
  {
   "cell_type": "code",
   "execution_count": 44,
   "metadata": {},
   "outputs": [],
   "source": [
    "# Load the last statepoint file\n",
    "sp = mc.StatePoint('statepoint.16.h5')"
   ]
  },
  {
   "cell_type": "code",
   "execution_count": 45,
   "metadata": {},
   "outputs": [],
   "source": [
    "# Load the tallies from the statepoint into each MGXS object\n",
    "chi_prompt.load_from_statepoint(sp)\n",
    "prompt_nu_fission.load_from_statepoint(sp)\n",
    "chi_delayed.load_from_statepoint(sp)\n",
    "delayed_nu_fission.load_from_statepoint(sp)\n",
    "beta.load_from_statepoint(sp)\n",
    "decay_rate.load_from_statepoint(sp)"
   ]
  },
  {
   "cell_type": "code",
   "execution_count": 46,
   "metadata": {},
   "outputs": [
    {
     "data": {
      "text/plain": [
       "array([[[1.69038978e-08, 2.60116997e-07, 5.54013615e-08]],\n",
       "\n",
       "       [[8.72527182e-08, 1.69400205e-06, 6.88483490e-07]],\n",
       "\n",
       "       [[8.32990250e-08, 1.28196479e-06, 4.37724851e-07]],\n",
       "\n",
       "       [[1.86763286e-07, 2.34048224e-06, 1.07200663e-06]],\n",
       "\n",
       "       [[7.65703103e-08, 1.21910077e-06, 6.06446108e-07]],\n",
       "\n",
       "       [[3.20750368e-08, 3.68977176e-07, 2.09360598e-07]]])"
      ]
     },
     "execution_count": 46,
     "metadata": {},
     "output_type": "execute_result"
    }
   ],
   "source": [
    "delayed_nu_fission.get_condensed_xs(one_group).get_xs()"
   ]
  },
  {
   "cell_type": "code",
   "execution_count": 47,
   "metadata": {},
   "outputs": [
    {
     "data": {
      "text/html": [
       "<div>\n",
       "<style scoped>\n",
       "    .dataframe tbody tr th:only-of-type {\n",
       "        vertical-align: middle;\n",
       "    }\n",
       "\n",
       "    .dataframe tbody tr th {\n",
       "        vertical-align: top;\n",
       "    }\n",
       "\n",
       "    .dataframe thead th {\n",
       "        text-align: right;\n",
       "    }\n",
       "</style>\n",
       "<table border=\"1\" class=\"dataframe\">\n",
       "  <thead>\n",
       "    <tr style=\"text-align: right;\">\n",
       "      <th></th>\n",
       "      <th>cell</th>\n",
       "      <th>delayedgroup</th>\n",
       "      <th>group in</th>\n",
       "      <th>nuclide</th>\n",
       "      <th>mean</th>\n",
       "      <th>std. dev.</th>\n",
       "    </tr>\n",
       "  </thead>\n",
       "  <tbody>\n",
       "    <tr>\n",
       "      <th>0</th>\n",
       "      <td>14</td>\n",
       "      <td>1</td>\n",
       "      <td>1</td>\n",
       "      <td>U235</td>\n",
       "      <td>0.013336</td>\n",
       "      <td>0.000002</td>\n",
       "    </tr>\n",
       "    <tr>\n",
       "      <th>1</th>\n",
       "      <td>14</td>\n",
       "      <td>1</td>\n",
       "      <td>1</td>\n",
       "      <td>Pu239</td>\n",
       "      <td>0.013271</td>\n",
       "      <td>0.000001</td>\n",
       "    </tr>\n",
       "    <tr>\n",
       "      <th>2</th>\n",
       "      <td>14</td>\n",
       "      <td>1</td>\n",
       "      <td>1</td>\n",
       "      <td>Pu241</td>\n",
       "      <td>0.013599</td>\n",
       "      <td>0.000002</td>\n",
       "    </tr>\n",
       "    <tr>\n",
       "      <th>3</th>\n",
       "      <td>14</td>\n",
       "      <td>2</td>\n",
       "      <td>1</td>\n",
       "      <td>U235</td>\n",
       "      <td>0.032739</td>\n",
       "      <td>0.000004</td>\n",
       "    </tr>\n",
       "    <tr>\n",
       "      <th>4</th>\n",
       "      <td>14</td>\n",
       "      <td>2</td>\n",
       "      <td>1</td>\n",
       "      <td>Pu239</td>\n",
       "      <td>0.030881</td>\n",
       "      <td>0.000003</td>\n",
       "    </tr>\n",
       "    <tr>\n",
       "      <th>5</th>\n",
       "      <td>14</td>\n",
       "      <td>2</td>\n",
       "      <td>1</td>\n",
       "      <td>Pu241</td>\n",
       "      <td>0.029966</td>\n",
       "      <td>0.000004</td>\n",
       "    </tr>\n",
       "    <tr>\n",
       "      <th>6</th>\n",
       "      <td>14</td>\n",
       "      <td>3</td>\n",
       "      <td>1</td>\n",
       "      <td>U235</td>\n",
       "      <td>0.120780</td>\n",
       "      <td>0.000015</td>\n",
       "    </tr>\n",
       "    <tr>\n",
       "      <th>7</th>\n",
       "      <td>14</td>\n",
       "      <td>3</td>\n",
       "      <td>1</td>\n",
       "      <td>Pu239</td>\n",
       "      <td>0.113370</td>\n",
       "      <td>0.000012</td>\n",
       "    </tr>\n",
       "    <tr>\n",
       "      <th>8</th>\n",
       "      <td>14</td>\n",
       "      <td>3</td>\n",
       "      <td>1</td>\n",
       "      <td>Pu241</td>\n",
       "      <td>0.116730</td>\n",
       "      <td>0.000014</td>\n",
       "    </tr>\n",
       "    <tr>\n",
       "      <th>9</th>\n",
       "      <td>14</td>\n",
       "      <td>4</td>\n",
       "      <td>1</td>\n",
       "      <td>U235</td>\n",
       "      <td>0.302780</td>\n",
       "      <td>0.000037</td>\n",
       "    </tr>\n",
       "    <tr>\n",
       "      <th>10</th>\n",
       "      <td>14</td>\n",
       "      <td>4</td>\n",
       "      <td>1</td>\n",
       "      <td>Pu239</td>\n",
       "      <td>0.292500</td>\n",
       "      <td>0.000031</td>\n",
       "    </tr>\n",
       "    <tr>\n",
       "      <th>11</th>\n",
       "      <td>14</td>\n",
       "      <td>4</td>\n",
       "      <td>1</td>\n",
       "      <td>Pu241</td>\n",
       "      <td>0.306910</td>\n",
       "      <td>0.000038</td>\n",
       "    </tr>\n",
       "  </tbody>\n",
       "</table>\n",
       "</div>"
      ],
      "text/plain": [
       "    cell  delayedgroup  group in nuclide      mean  std. dev.\n",
       "0     14             1         1    U235  0.013336   0.000002\n",
       "1     14             1         1   Pu239  0.013271   0.000001\n",
       "2     14             1         1   Pu241  0.013599   0.000002\n",
       "3     14             2         1    U235  0.032739   0.000004\n",
       "4     14             2         1   Pu239  0.030881   0.000003\n",
       "5     14             2         1   Pu241  0.029966   0.000004\n",
       "6     14             3         1    U235  0.120780   0.000015\n",
       "7     14             3         1   Pu239  0.113370   0.000012\n",
       "8     14             3         1   Pu241  0.116730   0.000014\n",
       "9     14             4         1    U235  0.302780   0.000037\n",
       "10    14             4         1   Pu239  0.292500   0.000031\n",
       "11    14             4         1   Pu241  0.306910   0.000038"
      ]
     },
     "execution_count": 47,
     "metadata": {},
     "output_type": "execute_result"
    }
   ],
   "source": [
    "df = decay_rate.get_pandas_dataframe()\n",
    "df.head(12)"
   ]
  },
  {
   "cell_type": "code",
   "execution_count": 48,
   "metadata": {},
   "outputs": [
    {
     "name": "stderr",
     "output_type": "stream",
     "text": [
      "/home/fuad/miniconda3/lib/python3.8/site-packages/openmc/mgxs/mdgxs.py:746: FutureWarning: As the xlwt package is no longer maintained, the xlwt engine will be removed in a future version of pandas. This is the only engine in pandas that supports writing in the xls format. Install openpyxl and write to an xlsx file instead. You can set the option io.excel.xls.writer to 'xlwt' to silence this warning. While this option is deprecated and will also raise a warning, it can be globally set and the warning suppressed.\n",
      "  df.to_excel(filename + '.xls', index=False)\n"
     ]
    }
   ],
   "source": [
    "beta.export_xs_data(filename='beta', format='excel')"
   ]
  },
  {
   "cell_type": "code",
   "execution_count": 50,
   "metadata": {
    "scrolled": true
   },
   "outputs": [],
   "source": [
    "# Get the decay rate data\n",
    "dr_tally = decay_rate.xs_tally\n",
    "dr_u235 = dr_tally.get_values(nuclides=['U235']).flatten()\n",
    "dr_pu239 = dr_tally.get_values(nuclides=['Pu239']).flatten()\n",
    "dr_pu241 = dr_tally.get_values(nuclides=['Pu241']).flatten()"
   ]
  },
  {
   "cell_type": "code",
   "execution_count": 51,
   "metadata": {},
   "outputs": [],
   "source": [
    "# Compute the exponential decay of the precursors\n",
    "time = np.logspace(-3,3)\n",
    "dr_u235_points = np.exp(-np.outer(dr_u235, time))\n",
    "dr_pu239_points = np.exp(-np.outer(dr_pu239, time))"
   ]
  },
  {
   "cell_type": "code",
   "execution_count": 60,
   "metadata": {
    "scrolled": true
   },
   "outputs": [
    {
     "data": {
      "image/png": "[encoded data removed]",
      "text/plain": [
       "<Figure size 576x432 with 1 Axes>"
      ]
     },
     "metadata": {
      "needs_background": "light"
     },
     "output_type": "display_data"
    }
   ],
   "source": [
    "# Create a plot of the fraction of the precursors remaining as a f(time)\n",
    "colors = ['b', 'g', 'r', 'c', 'm', 'k']\n",
    "legend = []\n",
    "fig = plt.figure(figsize=(8,6))\n",
    "for g,c in enumerate(colors):\n",
    "    #plt.semilogx(time, dr_u235_points [g,:], color=c, linestyle='--', linewidth=3)\n",
    "    plt.semilogx(time, dr_pu239_points[g,:], color=c, linestyle=':' , linewidth=3)\n",
    "    #legend.append('U-235 $t_{1/2}$ = ' + '{0:1.2f} seconds'.format(np.log(2) / dr_u235[g]))\n",
    "    legend.append('Pu-239 $t_{1/2}$ = ' + '{0:1.2f} seconds'.format(np.log(2) / dr_pu239[g]))\n",
    "\n",
    "plt.title('Delayed Neutron Precursor Decay Rates')\n",
    "plt.xlabel('Time (s)')\n",
    "plt.ylabel('Fraction Remaining')\n",
    "plt.legend(legend, loc=1, bbox_to_anchor=(1.55, 0.95))\n",
    "plt.savefig('precursor_decay_rates.png')"
   ]
  },
  {
   "cell_type": "code",
   "execution_count": 79,
   "metadata": {},
   "outputs": [
    {
     "data": {
      "image/png": "[encoded data removed]",
      "text/plain": [
       "<Figure size 576x432 with 1 Axes>"
      ]
     },
     "metadata": {
      "needs_background": "light"
     },
     "output_type": "display_data"
    }
   ],
   "source": [
    "# Create a plot of the fraction of the precursors remaining as a f(time)\n",
    "colors = ['b', 'g', 'r', 'c', 'm', 'k']\n",
    "legend = []\n",
    "fig = plt.figure(figsize=(8,6))\n",
    "for g,c in enumerate(colors):\n",
    "    plt.semilogx(time, dr_u235_points [g,:], color=c, linestyle='--', linewidth=3)\n",
    "    plt.semilogx(time, dr_pu239_points[g,:], color=c, linestyle=':' , linewidth=3)\n",
    "    legend.append('U-235 $t_{1/2}$ = ' + '{0:1.2f} seconds'.format(np.log(2) / dr_u235[g]))\n",
    "    legend.append('Pu-239 $t_{1/2}$ = ' + '{0:1.2f} seconds'.format(np.log(2) / dr_pu239[g]))\n",
    "\n",
    "plt.title('Delayed Neutron Precursor Decay Rates')\n",
    "plt.xlabel('Time (s)')\n",
    "plt.ylabel('Fraction Remaining')\n",
    "plt.legend(legend, loc=1, bbox_to_anchor=(1.3, 1))\n",
    "plt.savefig('precursor_decay_rates_all.jpg')"
   ]
  },
  {
   "cell_type": "code",
   "execution_count": 53,
   "metadata": {},
   "outputs": [
    {
     "data": {
      "text/html": [
       "<div>\n",
       "<style scoped>\n",
       "    .dataframe tbody tr th:only-of-type {\n",
       "        vertical-align: middle;\n",
       "    }\n",
       "\n",
       "    .dataframe tbody tr th {\n",
       "        vertical-align: top;\n",
       "    }\n",
       "\n",
       "    .dataframe thead th {\n",
       "        text-align: right;\n",
       "    }\n",
       "</style>\n",
       "<table border=\"1\" class=\"dataframe\">\n",
       "  <thead>\n",
       "    <tr style=\"text-align: right;\">\n",
       "      <th></th>\n",
       "      <th>cell</th>\n",
       "      <th>delayedgroup</th>\n",
       "      <th>nuclide</th>\n",
       "      <th>score</th>\n",
       "      <th>mean</th>\n",
       "      <th>std. dev.</th>\n",
       "    </tr>\n",
       "  </thead>\n",
       "  <tbody>\n",
       "    <tr>\n",
       "      <th>0</th>\n",
       "      <td>14</td>\n",
       "      <td>1</td>\n",
       "      <td>((U235 * U235) / U235)</td>\n",
       "      <td>(((delayed-nu-fission / nu-fission) * (delayed...</td>\n",
       "      <td>2.977814e-10</td>\n",
       "      <td>5.854232e-14</td>\n",
       "    </tr>\n",
       "    <tr>\n",
       "      <th>1</th>\n",
       "      <td>14</td>\n",
       "      <td>1</td>\n",
       "      <td>((U235 * U235) / Pu239)</td>\n",
       "      <td>(((delayed-nu-fission / nu-fission) * (delayed...</td>\n",
       "      <td>2.992399e-10</td>\n",
       "      <td>5.571162e-14</td>\n",
       "    </tr>\n",
       "    <tr>\n",
       "      <th>2</th>\n",
       "      <td>14</td>\n",
       "      <td>1</td>\n",
       "      <td>((U235 * U235) / Pu241)</td>\n",
       "      <td>(((delayed-nu-fission / nu-fission) * (delayed...</td>\n",
       "      <td>2.920224e-10</td>\n",
       "      <td>5.740901e-14</td>\n",
       "    </tr>\n",
       "    <tr>\n",
       "      <th>3</th>\n",
       "      <td>14</td>\n",
       "      <td>1</td>\n",
       "      <td>((U235 * Pu239) / U235)</td>\n",
       "      <td>(((delayed-nu-fission / nu-fission) * (delayed...</td>\n",
       "      <td>4.582256e-09</td>\n",
       "      <td>8.900040e-13</td>\n",
       "    </tr>\n",
       "    <tr>\n",
       "      <th>4</th>\n",
       "      <td>14</td>\n",
       "      <td>1</td>\n",
       "      <td>((U235 * Pu239) / Pu239)</td>\n",
       "      <td>(((delayed-nu-fission / nu-fission) * (delayed...</td>\n",
       "      <td>4.604700e-09</td>\n",
       "      <td>8.457742e-13</td>\n",
       "    </tr>\n",
       "    <tr>\n",
       "      <th>...</th>\n",
       "      <td>...</td>\n",
       "      <td>...</td>\n",
       "      <td>...</td>\n",
       "      <td>...</td>\n",
       "      <td>...</td>\n",
       "      <td>...</td>\n",
       "    </tr>\n",
       "    <tr>\n",
       "      <th>211</th>\n",
       "      <td>14</td>\n",
       "      <td>6</td>\n",
       "      <td>((U238 * Pu239) / Pu239)</td>\n",
       "      <td>(((delayed-nu-fission / nu-fission) * (delayed...</td>\n",
       "      <td>2.192032e-10</td>\n",
       "      <td>5.193832e-14</td>\n",
       "    </tr>\n",
       "    <tr>\n",
       "      <th>212</th>\n",
       "      <td>14</td>\n",
       "      <td>6</td>\n",
       "      <td>((U238 * Pu239) / Pu241)</td>\n",
       "      <td>(((delayed-nu-fission / nu-fission) * (delayed...</td>\n",
       "      <td>1.992670e-10</td>\n",
       "      <td>4.886204e-14</td>\n",
       "    </tr>\n",
       "    <tr>\n",
       "      <th>213</th>\n",
       "      <td>14</td>\n",
       "      <td>6</td>\n",
       "      <td>((U238 * Pu241) / U235)</td>\n",
       "      <td>(((delayed-nu-fission / nu-fission) * (delayed...</td>\n",
       "      <td>1.190024e-10</td>\n",
       "      <td>2.940793e-14</td>\n",
       "    </tr>\n",
       "    <tr>\n",
       "      <th>214</th>\n",
       "      <td>14</td>\n",
       "      <td>6</td>\n",
       "      <td>((U238 * Pu241) / Pu239)</td>\n",
       "      <td>(((delayed-nu-fission / nu-fission) * (delayed...</td>\n",
       "      <td>1.243777e-10</td>\n",
       "      <td>2.971583e-14</td>\n",
       "    </tr>\n",
       "    <tr>\n",
       "      <th>215</th>\n",
       "      <td>14</td>\n",
       "      <td>6</td>\n",
       "      <td>((U238 * Pu241) / Pu241)</td>\n",
       "      <td>(((delayed-nu-fission / nu-fission) * (delayed...</td>\n",
       "      <td>1.130657e-10</td>\n",
       "      <td>2.794051e-14</td>\n",
       "    </tr>\n",
       "  </tbody>\n",
       "</table>\n",
       "<p>216 rows × 6 columns</p>\n",
       "</div>"
      ],
      "text/plain": [
       "     cell  delayedgroup                   nuclide  \\\n",
       "0      14             1    ((U235 * U235) / U235)   \n",
       "1      14             1   ((U235 * U235) / Pu239)   \n",
       "2      14             1   ((U235 * U235) / Pu241)   \n",
       "3      14             1   ((U235 * Pu239) / U235)   \n",
       "4      14             1  ((U235 * Pu239) / Pu239)   \n",
       "..    ...           ...                       ...   \n",
       "211    14             6  ((U238 * Pu239) / Pu239)   \n",
       "212    14             6  ((U238 * Pu239) / Pu241)   \n",
       "213    14             6   ((U238 * Pu241) / U235)   \n",
       "214    14             6  ((U238 * Pu241) / Pu239)   \n",
       "215    14             6  ((U238 * Pu241) / Pu241)   \n",
       "\n",
       "                                                 score     mean  std. dev.  \n",
       "0    (((delayed-nu-fission / nu-fission) * (delayed... 2.98e-10   5.85e-14  \n",
       "1    (((delayed-nu-fission / nu-fission) * (delayed... 2.99e-10   5.57e-14  \n",
       "2    (((delayed-nu-fission / nu-fission) * (delayed... 2.92e-10   5.74e-14  \n",
       "3    (((delayed-nu-fission / nu-fission) * (delayed... 4.58e-09   8.90e-13  \n",
       "4    (((delayed-nu-fission / nu-fission) * (delayed... 4.60e-09   8.46e-13  \n",
       "..                                                 ...      ...        ...  \n",
       "211  (((delayed-nu-fission / nu-fission) * (delayed... 2.19e-10   5.19e-14  \n",
       "212  (((delayed-nu-fission / nu-fission) * (delayed... 1.99e-10   4.89e-14  \n",
       "213  (((delayed-nu-fission / nu-fission) * (delayed... 1.19e-10   2.94e-14  \n",
       "214  (((delayed-nu-fission / nu-fission) * (delayed... 1.24e-10   2.97e-14  \n",
       "215  (((delayed-nu-fission / nu-fission) * (delayed... 1.13e-10   2.79e-14  \n",
       "\n",
       "[216 rows x 6 columns]"
      ]
     },
     "execution_count": 53,
     "metadata": {},
     "output_type": "execute_result"
    }
   ],
   "source": [
    "# Use tally arithmetic to compute the precursor concentrations\n",
    "precursor_conc = beta.get_condensed_xs(one_group).xs_tally.summation(filter_type=mc.EnergyFilter, remove_filter=True) * \\\n",
    "    delayed_nu_fission.get_condensed_xs(one_group).xs_tally.summation(filter_type=mc.EnergyFilter, remove_filter=True) / \\\n",
    "    decay_rate.xs_tally.summation(filter_type=mc.EnergyFilter, remove_filter=True)\n",
    "\n",
    "# Get the Pandas DataFrames for inspection\n",
    "precursor_conc.get_pandas_dataframe()"
   ]
  },
  {
   "cell_type": "code",
   "execution_count": 68,
   "metadata": {},
   "outputs": [],
   "source": [
    "energy_filter = [f for f in beta.xs_tally.filters if type(f) is mc.EnergyFilter]\n",
    "beta_integrated = beta.get_condensed_xs(one_group).xs_tally.summation(filter_type=mc.EnergyFilter, remove_filter=True)\n",
    "beta_u235  = beta_integrated.get_values(nuclides=['U235'])\n",
    "beta_pu239 = beta_integrated.get_values(nuclides=['Pu239'])\n",
    "beta_pu241 = beta_integrated.get_values(nuclides=['Pu241'])\n",
    "beta_u238 = beta_integrated.get_values(nuclides=['U238'])"
   ]
  },
  {
   "cell_type": "code",
   "execution_count": 69,
   "metadata": {},
   "outputs": [
    {
     "name": "stdout",
     "output_type": "stream",
     "text": [
      "Beta (U-235) : 0.006711 +/- 0.000000\n",
      "Beta (Pu-239): 0.002184 +/- 0.000000\n"
     ]
    },
    {
     "data": {
      "image/png": "[encoded data removed]",
      "text/plain": [
       "<Figure size 432x288 with 1 Axes>"
      ]
     },
     "metadata": {
      "needs_background": "light"
     },
     "output_type": "display_data"
    }
   ],
   "source": [
    "# Reshape the betas\n",
    "beta_u235.shape = (beta_u235.shape[0])\n",
    "beta_pu239.shape = (beta_pu239.shape[0])\n",
    "beta_pu241.shape = (beta_pu241.shape[0])\n",
    "beta_u238.shape = (beta_u238.shape[0])\n",
    "\n",
    "df = beta_integrated.summation(filter_type=mc.DelayedGroupFilter, remove_filter=True).get_pandas_dataframe()\n",
    "print('Beta (U-235) : {:.6f} +/- {:.6f}'.format(df[df['nuclide'] == 'U235']['mean'][0], df[df['nuclide'] == 'U235']['std. dev.'][0]))\n",
    "print('Beta (Pu-239): {:.6f} +/- {:.6f}'.format(df[df['nuclide'] == 'Pu239']['mean'][1], df[df['nuclide'] == 'Pu239']['std. dev.'][1]))\n",
    "#print('Beta (U-238) : {:.6f} +/- {:.6f}'.format(df[df['nuclide'] == 'U238']['mean'][0], df[df['nuclide'] == 'U238']['std. dev.'][0]))\n",
    "#print('Beta (Pu-241): {:.6f} +/- {:.6f}'.format(df[df['nuclide'] == 'Pu241']['mean'][0], df[df['nuclide'] == 'Pu241']['std. dev.'][1]))\n",
    "\n",
    "beta_u235 = np.append(beta_u235[0], beta_u235)\n",
    "beta_pu239 = np.append(beta_pu239[0], beta_pu239)\n",
    "beta_u238 = np.append(beta_u238[0], beta_u238)\n",
    "beta_pu241 = np.append(beta_pu241[0], beta_pu241)\n",
    "\n",
    "# Create a step plot for the MGXS\n",
    "plt.plot(np.arange(0.5, 7.5, 1), beta_u235, drawstyle='steps', color='b', linewidth=3)\n",
    "plt.plot(np.arange(0.5, 7.5, 1), beta_pu239, drawstyle='steps', color='g', linewidth=3)\n",
    "plt.plot(np.arange(0.5, 7.5, 1), beta_u238, drawstyle='steps', color='y', linewidth=3)\n",
    "plt.plot(np.arange(0.5, 7.5, 1), beta_pu241, drawstyle='steps', color='r', linewidth=3)\n",
    "\n",
    "\n",
    "plt.title('Delayed Neutron Fraction (beta)')\n",
    "plt.xlabel('Delayed Group')\n",
    "plt.ylabel('Beta(fraction total neutrons)')\n",
    "plt.legend(['U-235', 'Pu-239', 'U-238', 'Pu-241'])\n",
    "plt.xlim([0,7])\n",
    "plt.savefig('beta_6groups.jpg')"
   ]
  },
  {
   "cell_type": "markdown",
   "metadata": {},
   "source": [
    "## We can also plot the energy spectrum for fission emission of prompt and delayed neutrons."
   ]
  },
  {
   "cell_type": "code",
   "execution_count": 56,
   "metadata": {},
   "outputs": [
    {
     "data": {
      "text/plain": [
       "(1000.0, 20000000.0)"
      ]
     },
     "execution_count": 56,
     "metadata": {},
     "output_type": "execute_result"
    },
    {
     "data": {
      "image/png": "[encoded data removed]",
      "text/plain": [
       "<Figure size 432x288 with 1 Axes>"
      ]
     },
     "metadata": {
      "needs_background": "light"
     },
     "output_type": "display_data"
    }
   ],
   "source": [
    "chi_d_u235  = np.squeeze(chi_delayed.get_xs(nuclides=['U235'], order_groups='decreasing'))\n",
    "chi_d_pu239 = np.squeeze(chi_delayed.get_xs(nuclides=['Pu239'], order_groups='decreasing'))\n",
    "chi_p_u235  = np.squeeze(chi_prompt.get_xs(nuclides=['U235'], order_groups='decreasing'))\n",
    "chi_p_pu239 = np.squeeze(chi_prompt.get_xs(nuclides=['Pu239'], order_groups='decreasing'))\n",
    "\n",
    "chi_d_u235  = np.append(chi_d_u235 , chi_d_u235[0])\n",
    "chi_d_pu239 = np.append(chi_d_pu239, chi_d_pu239[0])\n",
    "chi_p_u235  = np.append(chi_p_u235 , chi_p_u235[0])\n",
    "chi_p_pu239 = np.append(chi_p_pu239, chi_p_pu239[0])\n",
    "\n",
    "# Create a step plot for the MGXS\n",
    "plt.semilogx(energy_groups.group_edges, chi_d_u235 , drawstyle='steps', color='b', linestyle='--', linewidth=3)\n",
    "plt.semilogx(energy_groups.group_edges, chi_d_pu239, drawstyle='steps', color='g', linestyle='--', linewidth=3)\n",
    "plt.semilogx(energy_groups.group_edges, chi_p_u235 , drawstyle='steps', color='b', linestyle=':', linewidth=3)\n",
    "plt.semilogx(energy_groups.group_edges, chi_p_pu239, drawstyle='steps', color='g', linestyle=':', linewidth=3)\n",
    "\n",
    "plt.title('Energy Spectrum for Fission Neutrons')\n",
    "plt.xlabel('Energy (eV)')\n",
    "plt.ylabel('Fraction on emitted neutrons')\n",
    "plt.legend(['U-235 delayed', 'Pu-239 delayed', 'U-235 prompt', 'Pu-239 prompt'],loc=2)\n",
    "plt.xlim(1.0e3, 20.0e6)"
   ]
  },
  {
   "cell_type": "code",
   "execution_count": 57,
   "metadata": {},
   "outputs": [
    {
     "data": {
      "text/plain": [
       "array([1.00000000e-03, 3.27340695e-03, 1.07151931e-02, 3.50751874e-02,\n",
       "       1.14815362e-01, 3.75837404e-01, 1.23026877e+00, 4.02717034e+00,\n",
       "       1.31825674e+01, 4.31519077e+01, 1.41253754e+02, 4.62381021e+02,\n",
       "       1.51356125e+03, 4.95450191e+03, 1.62181010e+04, 5.30884444e+04,\n",
       "       1.73780083e+05, 5.68852931e+05, 1.86208714e+06, 6.09536897e+06,\n",
       "       1.99526231e+07])"
      ]
     },
     "execution_count": 57,
     "metadata": {},
     "output_type": "execute_result"
    }
   ],
   "source": [
    "energy_groups.group_edges"
   ]
  },
  {
   "cell_type": "code",
   "execution_count": null,
   "metadata": {},
   "outputs": [],
   "source": []
  }
 ],
 "metadata": {
  "kernelspec": {
   "display_name": "openmc-env",
   "language": "python",
   "name": "python3"
  },
  "language_info": {
   "codemirror_mode": {
    "name": "ipython",
    "version": 3
   },
   "file_extension": ".py",
   "mimetype": "text/x-python",
   "name": "python",
   "nbconvert_exporter": "python",
   "pygments_lexer": "ipython3",
   "version": "3.10.5"
  },
  "vscode": {
   "interpreter": {
    "hash": "55afff2fead72fffb84fc1ad750781e8c1e32f2cbe320bc3794d4050513d6322"
   }
  }
 },
 "nbformat": 4,
 "nbformat_minor": 4
}
